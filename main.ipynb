{
 "cells": [
  {
   "cell_type": "code",
   "execution_count": 3,
   "metadata": {},
   "outputs": [],
   "source": [
    "import pandas as pd\n",
    "import numpy as np"
   ]
  },
  {
   "cell_type": "code",
   "execution_count": 4,
   "metadata": {},
   "outputs": [],
   "source": [
    "sample_df = pd.read_csv('Dataset/sample_train.csv')"
   ]
  },
  {
   "cell_type": "code",
   "execution_count": 6,
   "metadata": {},
   "outputs": [
    {
     "data": {
      "text/plain": [
       "(20000, 5)"
      ]
     },
     "execution_count": 6,
     "metadata": {},
     "output_type": "execute_result"
    }
   ],
   "source": [
    "sample_df.shape"
   ]
  },
  {
   "cell_type": "code",
   "execution_count": 7,
   "metadata": {},
   "outputs": [
    {
     "data": {
      "text/html": [
       "<div>\n",
       "<style scoped>\n",
       "    .dataframe tbody tr th:only-of-type {\n",
       "        vertical-align: middle;\n",
       "    }\n",
       "\n",
       "    .dataframe tbody tr th {\n",
       "        vertical-align: top;\n",
       "    }\n",
       "\n",
       "    .dataframe thead th {\n",
       "        text-align: right;\n",
       "    }\n",
       "</style>\n",
       "<table border=\"1\" class=\"dataframe\">\n",
       "  <thead>\n",
       "    <tr style=\"text-align: right;\">\n",
       "      <th></th>\n",
       "      <th>code1_path</th>\n",
       "      <th>code2_path</th>\n",
       "      <th>code1</th>\n",
       "      <th>code2</th>\n",
       "      <th>similar</th>\n",
       "    </tr>\n",
       "  </thead>\n",
       "  <tbody>\n",
       "    <tr>\n",
       "      <th>0</th>\n",
       "      <td>./train_code/problem393/problem393_19.cpp</td>\n",
       "      <td>./train_code/problem033/problem033_439.cpp</td>\n",
       "      <td>#include &lt;bits/stdc++.h&gt;\\n\\nusing namespace st...</td>\n",
       "      <td>#include &lt;algorithm&gt;\\n#include &lt;bitset&gt;\\n#incl...</td>\n",
       "      <td>0</td>\n",
       "    </tr>\n",
       "    <tr>\n",
       "      <th>1</th>\n",
       "      <td>./train_code/problem019/problem019_210.cpp</td>\n",
       "      <td>./train_code/problem019/problem019_63.cpp</td>\n",
       "      <td>#include &lt;iostream&gt;\\n\\nusing namespace std;\\n\\...</td>\n",
       "      <td>#include &lt;iostream&gt;\\n#include &lt;string&gt;\\nusing ...</td>\n",
       "      <td>1</td>\n",
       "    </tr>\n",
       "    <tr>\n",
       "      <th>2</th>\n",
       "      <td>./train_code/problem107/problem107_486.cpp</td>\n",
       "      <td>./train_code/problem107/problem107_340.cpp</td>\n",
       "      <td>#include &lt;iostream&gt;\\n#include &lt;vector&gt;\\nusing ...</td>\n",
       "      <td>#include &lt;cstdio&gt;\\n#include &lt;cstdlib&gt;\\n#includ...</td>\n",
       "      <td>1</td>\n",
       "    </tr>\n",
       "    <tr>\n",
       "      <th>3</th>\n",
       "      <td>./train_code/problem187/problem187_257.cpp</td>\n",
       "      <td>./train_code/problem403/problem403_135.cpp</td>\n",
       "      <td>#include &lt;bits/stdc++.h&gt;\\n#include &lt;unordered_...</td>\n",
       "      <td>#include &lt;bits/stdc++.h&gt;\\nusing namespace std;...</td>\n",
       "      <td>0</td>\n",
       "    </tr>\n",
       "    <tr>\n",
       "      <th>4</th>\n",
       "      <td>./train_code/problem173/problem173_490.cpp</td>\n",
       "      <td>./train_code/problem173/problem173_345.cpp</td>\n",
       "      <td>#include &lt;bits/stdc++.h&gt;\\ntypedef long long ll...</td>\n",
       "      <td>#include \"bits/stdc++.h\"\\n#define rep(i,n) for...</td>\n",
       "      <td>1</td>\n",
       "    </tr>\n",
       "  </tbody>\n",
       "</table>\n",
       "</div>"
      ],
      "text/plain": [
       "                                   code1_path  \\\n",
       "0   ./train_code/problem393/problem393_19.cpp   \n",
       "1  ./train_code/problem019/problem019_210.cpp   \n",
       "2  ./train_code/problem107/problem107_486.cpp   \n",
       "3  ./train_code/problem187/problem187_257.cpp   \n",
       "4  ./train_code/problem173/problem173_490.cpp   \n",
       "\n",
       "                                   code2_path  \\\n",
       "0  ./train_code/problem033/problem033_439.cpp   \n",
       "1   ./train_code/problem019/problem019_63.cpp   \n",
       "2  ./train_code/problem107/problem107_340.cpp   \n",
       "3  ./train_code/problem403/problem403_135.cpp   \n",
       "4  ./train_code/problem173/problem173_345.cpp   \n",
       "\n",
       "                                               code1  \\\n",
       "0  #include <bits/stdc++.h>\\n\\nusing namespace st...   \n",
       "1  #include <iostream>\\n\\nusing namespace std;\\n\\...   \n",
       "2  #include <iostream>\\n#include <vector>\\nusing ...   \n",
       "3  #include <bits/stdc++.h>\\n#include <unordered_...   \n",
       "4  #include <bits/stdc++.h>\\ntypedef long long ll...   \n",
       "\n",
       "                                               code2  similar  \n",
       "0  #include <algorithm>\\n#include <bitset>\\n#incl...        0  \n",
       "1  #include <iostream>\\n#include <string>\\nusing ...        1  \n",
       "2  #include <cstdio>\\n#include <cstdlib>\\n#includ...        1  \n",
       "3  #include <bits/stdc++.h>\\nusing namespace std;...        0  \n",
       "4  #include \"bits/stdc++.h\"\\n#define rep(i,n) for...        1  "
      ]
     },
     "execution_count": 7,
     "metadata": {},
     "output_type": "execute_result"
    }
   ],
   "source": [
    "sample_df.head()"
   ]
  },
  {
   "cell_type": "code",
   "execution_count": 8,
   "metadata": {},
   "outputs": [],
   "source": [
    "c1 = sample_df.iloc[0]['code1']\n",
    "c2 = sample_df.iloc[0]['code2']"
   ]
  },
  {
   "cell_type": "code",
   "execution_count": 9,
   "metadata": {},
   "outputs": [
    {
     "name": "stdout",
     "output_type": "stream",
     "text": [
      "#include <bits/stdc++.h>\n",
      "\n",
      "using namespace std;\n",
      "using ll = long long;\n",
      "using vl = vector<ll>;\n",
      "using pll = pair<ll, ll>;\n",
      "\n",
      "#define rep(i, n) for (ll i = 0, xxx_rep_end = (n); i < xxx_rep_end; ++i)\n",
      "#define all(x) (x).begin(), (x).end()\n",
      "\n",
      "template <class T1, class T2>\n",
      "inline bool chmax(T1 &a, const T2 &b) {\n",
      "    if (a < b) {\n",
      "        a = b;\n",
      "        return true;\n",
      "    }\n",
      "    return false;\n",
      "}\n",
      "template <class T1, class T2>\n",
      "inline bool chmin(T1 &a, const T2 &b) {\n",
      "    if (a > b) {\n",
      "        a = b;\n",
      "        return true;\n",
      "    }\n",
      "    return false;\n",
      "}\n",
      "\n",
      "constexpr ll INF = 0x3f3f3f3f3f3f3f3fLL;\n",
      "constexpr ll mod = 1000000007;\n",
      "\n",
      "int main() {\n",
      "    ll S;\n",
      "    cin >> S;\n",
      "    for (int i = 0; i < 3; ++i) {\n",
      "        if (S % 10 == 7) {\n",
      "            cout << \"Yes\" << endl;\n",
      "            return 0;\n",
      "        }\n",
      "        S /= 10;\n",
      "    }\n",
      "    cout << \"No\" << endl;\n",
      "}\n"
     ]
    }
   ],
   "source": [
    "print(c1)"
   ]
  },
  {
   "cell_type": "code",
   "execution_count": 10,
   "metadata": {},
   "outputs": [
    {
     "name": "stdout",
     "output_type": "stream",
     "text": [
      "#include <algorithm>\n",
      "#include <bitset>\n",
      "#include <complex>\n",
      "#include <deque>\n",
      "#include <exception>\n",
      "#include <fstream>\n",
      "#include <functional>\n",
      "#include <iomanip>\n",
      "#include <ios>\n",
      "#include <iosfwd>\n",
      "#include <iostream>\n",
      "#include <istream>\n",
      "#include <iterator>\n",
      "#include <limits>\n",
      "#include <list>\n",
      "#include <locale>\n",
      "#include <map>\n",
      "#include <memory>\n",
      "#include <new>\n",
      "#include <numeric>\n",
      "#include <ostream>\n",
      "#include <queue>\n",
      "#include <set>\n",
      "#include <sstream>\n",
      "#include <stack>\n",
      "#include <stdexcept>\n",
      "#include <streambuf>\n",
      "#include <string>\n",
      "#include <typeinfo>\n",
      "#include <utility>\n",
      "#include <valarray>\n",
      "#include <vector>\n",
      "#include <climits>\n",
      "#include <cstring>\n",
      "\n",
      "#define rep(i, m, n) for(int i=int(m);i<int(n);i++)\n",
      "#define all(c) begin(c),end(c)\n",
      "\n",
      "template<typename T1, typename T2>\n",
      "inline void chmin(T1 &a, T2 b) { if (a > b) a = b; }\n",
      "\n",
      "template<typename T1, typename T2>\n",
      "inline void chmax(T1 &a, T2 b) { if (a < b) a = b; }\n",
      "\n",
      "//改造\n",
      "typedef long long int ll;\n",
      "using namespace std;\n",
      "#define INF (1 << 30) - 1\n",
      "#define INFl (ll)5e15\n",
      "#define DEBUG 0 //デバッグする時1にしてね\n",
      "#define dump(x)  cerr << #x << \" = \" << (x) << endl\n",
      "#define MOD 1000000007\n",
      "\n",
      "\n",
      "//ここから編集する\n",
      "class Solve {\n",
      "public:\n",
      "    void input() {\n",
      "\n",
      "    }\n",
      "\n",
      "    void solve() {\n",
      "        input();\n",
      "        int n;\n",
      "        cin >> n;\n",
      "        if (n == 0) return;\n",
      "\n",
      "        vector<int> v(n);\n",
      "        rep(i, 0, n) cin >> v[i];\n",
      "        sort(all(v));\n",
      "\n",
      "        int ans = v[1] - v[0];\n",
      "        for (int i = 0; i + 1 < n; ++i) {\n",
      "            chmin(ans, v[i + 1] - v[i]);\n",
      "        }\n",
      "        cout << ans << endl;\n",
      "        solve();\n",
      "    }\n",
      "};\n",
      "\n",
      "\n",
      "int main() {\n",
      "    cin.tie(0);\n",
      "    ios::sync_with_stdio(false);\n",
      "    cout << fixed << setprecision(10);\n",
      "\n",
      "    Solve().solve();\n",
      "\n",
      "\n",
      "    return 0;\n",
      "}\n",
      "\n",
      "\n"
     ]
    }
   ],
   "source": [
    "print(c2)"
   ]
  },
  {
   "cell_type": "code",
   "execution_count": null,
   "metadata": {},
   "outputs": [],
   "source": []
  }
 ],
 "metadata": {
  "kernelspec": {
   "display_name": "Python 3",
   "language": "python",
   "name": "python3"
  },
  "language_info": {
   "codemirror_mode": {
    "name": "ipython",
    "version": 3
   },
   "file_extension": ".py",
   "mimetype": "text/x-python",
   "name": "python",
   "nbconvert_exporter": "python",
   "pygments_lexer": "ipython3",
   "version": "3.11.7"
  }
 },
 "nbformat": 4,
 "nbformat_minor": 2
}
